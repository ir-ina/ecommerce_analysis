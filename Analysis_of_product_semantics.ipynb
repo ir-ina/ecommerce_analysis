{
 "cells": [
  {
   "attachments": {},
   "cell_type": "markdown",
   "id": "89416115",
   "metadata": {},
   "source": [
    "# Classifying positive/negative comments"
   ]
  },
  {
   "cell_type": "code",
   "execution_count": 48,
   "id": "30f9eb23",
   "metadata": {},
   "outputs": [],
   "source": [
    "import pandas as pd\n",
    "import numpy as np\n",
    "from nltk.corpus import stopwords\n",
    "from sklearn.model_selection import train_test_split, GridSearchCV\n",
    "from sklearn.feature_extraction.text import TfidfVectorizer\n",
    "from sklearn.linear_model import LogisticRegression\n",
    "from sklearn.tree import DecisionTreeClassifier\n",
    "from sklearn.ensemble import RandomForestClassifier\n",
    "from sklearn.metrics import accuracy_score, roc_auc_score\n",
    "from sklearn.pipeline import Pipeline\n",
    "import spacy\n",
    "#!python3 -m spacy download pt_core_news_sm"
   ]
  },
  {
   "cell_type": "code",
   "execution_count": 49,
   "id": "c7106f68",
   "metadata": {},
   "outputs": [],
   "source": [
    "# Reading files\n",
    "path = '/Users/irina/Desktop/Brazilian_E-Commerce_by_Olist/'\n",
    "files = ['order_items', 'order_reviews']\n",
    "for file in files:\n",
    "    file_path = path + file + '.csv' \n",
    "    globals()[file] = pd.read_csv(file_path)\n",
    "# Leaving the necessary columns\n",
    "order_items=order_items[['order_id', 'product_id', 'seller_id']]\n",
    "order_scores = order_reviews[['order_id', 'review_score']]\n",
    "# Merging tables\n",
    "merged = pd.merge(order_items, order_scores, how = 'left', left_on = 'order_id', right_on = 'order_id' )"
   ]
  },
  {
   "cell_type": "code",
   "execution_count": 50,
   "id": "2cc9c2da",
   "metadata": {},
   "outputs": [],
   "source": [
    "# Leaving the necessary columns\n",
    "reviews = order_reviews[['review_comment_message', 'review_score']]\n",
    "# Deleting reviews with no text comment\n",
    "reviews = reviews.dropna()"
   ]
  },
  {
   "cell_type": "markdown",
   "id": "88575cd1",
   "metadata": {},
   "source": [
    "As the data is not labled, I'll try using score to lable it to be able to train classification model."
   ]
  },
  {
   "cell_type": "code",
   "execution_count": 51,
   "id": "2a63b022",
   "metadata": {},
   "outputs": [],
   "source": [
    "# Creating lables for review data depending on the score. 1-2: negative, 3: neutral, 4-5: positive\n",
    "def label(row):\n",
    "        if row['review_score'] > 3:\n",
    "            return 'positive'\n",
    "        elif row['review_score'] == 3:\n",
    "            return 'neutral'\n",
    "        else: \n",
    "            return 'negative'\n",
    "reviews['label'] = reviews.apply(label, axis = 1 )"
   ]
  },
  {
   "cell_type": "code",
   "execution_count": 52,
   "id": "260f4ff5",
   "metadata": {},
   "outputs": [],
   "source": [
    "# Encoding lables\n",
    "label_encoder = LabelEncoder()\n",
    "reviews['enc_label'] = label_encoder.fit_transform(reviews['label'])"
   ]
  },
  {
   "cell_type": "code",
   "execution_count": 53,
   "id": "d839840c",
   "metadata": {},
   "outputs": [
    {
     "data": {
      "text/html": [
       "<div>\n",
       "<style scoped>\n",
       "    .dataframe tbody tr th:only-of-type {\n",
       "        vertical-align: middle;\n",
       "    }\n",
       "\n",
       "    .dataframe tbody tr th {\n",
       "        vertical-align: top;\n",
       "    }\n",
       "\n",
       "    .dataframe thead th {\n",
       "        text-align: right;\n",
       "    }\n",
       "</style>\n",
       "<table border=\"1\" class=\"dataframe\">\n",
       "  <thead>\n",
       "    <tr style=\"text-align: right;\">\n",
       "      <th></th>\n",
       "      <th>review_comment_message</th>\n",
       "      <th>review_score</th>\n",
       "      <th>label</th>\n",
       "      <th>enc_label</th>\n",
       "    </tr>\n",
       "  </thead>\n",
       "  <tbody>\n",
       "    <tr>\n",
       "      <th>3</th>\n",
       "      <td>Recebi bem antes do prazo estipulado.</td>\n",
       "      <td>5</td>\n",
       "      <td>positive</td>\n",
       "      <td>2</td>\n",
       "    </tr>\n",
       "    <tr>\n",
       "      <th>4</th>\n",
       "      <td>Parabéns lojas lannister adorei comprar pela I...</td>\n",
       "      <td>5</td>\n",
       "      <td>positive</td>\n",
       "      <td>2</td>\n",
       "    </tr>\n",
       "    <tr>\n",
       "      <th>9</th>\n",
       "      <td>aparelho eficiente. no site a marca do aparelh...</td>\n",
       "      <td>4</td>\n",
       "      <td>positive</td>\n",
       "      <td>2</td>\n",
       "    </tr>\n",
       "    <tr>\n",
       "      <th>12</th>\n",
       "      <td>Mas um pouco ,travando...pelo valor ta Boa.\\r\\n</td>\n",
       "      <td>4</td>\n",
       "      <td>positive</td>\n",
       "      <td>2</td>\n",
       "    </tr>\n",
       "    <tr>\n",
       "      <th>15</th>\n",
       "      <td>Vendedor confiável, produto ok e entrega antes...</td>\n",
       "      <td>5</td>\n",
       "      <td>positive</td>\n",
       "      <td>2</td>\n",
       "    </tr>\n",
       "  </tbody>\n",
       "</table>\n",
       "</div>"
      ],
      "text/plain": [
       "                               review_comment_message  review_score     label  \\\n",
       "3               Recebi bem antes do prazo estipulado.             5  positive   \n",
       "4   Parabéns lojas lannister adorei comprar pela I...             5  positive   \n",
       "9   aparelho eficiente. no site a marca do aparelh...             4  positive   \n",
       "12    Mas um pouco ,travando...pelo valor ta Boa.\\r\\n             4  positive   \n",
       "15  Vendedor confiável, produto ok e entrega antes...             5  positive   \n",
       "\n",
       "    enc_label  \n",
       "3           2  \n",
       "4           2  \n",
       "9           2  \n",
       "12          2  \n",
       "15          2  "
      ]
     },
     "execution_count": 53,
     "metadata": {},
     "output_type": "execute_result"
    }
   ],
   "source": [
    "reviews.head()"
   ]
  },
  {
   "cell_type": "code",
   "execution_count": 54,
   "id": "af4d1b2f",
   "metadata": {},
   "outputs": [],
   "source": [
    "# Splitting dataset\n",
    "X, y = reviews['review_comment_message'], reviews['enc_label']\n",
    "X_train, X_test, y_train, y_test = train_test_split(X, y, test_size=0.2, random_state=42)"
   ]
  },
  {
   "cell_type": "code",
   "execution_count": 55,
   "id": "a102804d",
   "metadata": {},
   "outputs": [
    {
     "data": {
      "text/plain": [
       "83597              entrega rapida atendimento maravilhoso \n",
       "32774             Sempre comprei e fui muito bem atendido.\n",
       "74444    Ótimo meu produto foi entregue antes do prazo ...\n",
       "7788     Facilidade para uso do app, facilidade de paga...\n",
       "95842    Recebi o produto correto e antes mesmo da data...\n",
       "                               ...                        \n",
       "15109           Super interessante, chegou antes do prazo.\n",
       "27007                           Ótima loja, ótimo produto.\n",
       "92436    Achei que não receberia a tempo de mudar mas c...\n",
       "2000     Primeira vez que compro pela loja virtual e nã...\n",
       "38110    Na embalagem não vieram os parafusos de fixaçã...\n",
       "Name: review_comment_message, Length: 32781, dtype: object"
      ]
     },
     "execution_count": 55,
     "metadata": {},
     "output_type": "execute_result"
    }
   ],
   "source": [
    "X_train"
   ]
  },
  {
   "cell_type": "code",
   "execution_count": 56,
   "id": "792ed364",
   "metadata": {},
   "outputs": [],
   "source": [
    "# Tokenizing the text, converting to lowercase, lemmatizing, removing stopwords\n",
    "stop_words = set(stopwords.words('portuguese'))\n",
    "\n",
    "def preprocess_text(text):\n",
    "    doc = nlp(text)\n",
    "    lemmas = [token.lemma_ for token in doc if token not in stop_words]\n",
    "    return ' '.join(lemmas) \n",
    "\n",
    "X_train = X_train.apply(preprocess_text)\n",
    "X_test = X_test.apply(preprocess_text)"
   ]
  },
  {
   "cell_type": "markdown",
   "id": "be268e96",
   "metadata": {},
   "source": [
    "TF-IDF is good for text classification tasks because it emphasizes important words that are rare, helping classifiers focus on meaningful features for distinguishing between classes."
   ]
  },
  {
   "cell_type": "code",
   "execution_count": 57,
   "id": "957f6bd7",
   "metadata": {},
   "outputs": [],
   "source": [
    "tfidf_vectorizer = TfidfVectorizer()"
   ]
  },
  {
   "cell_type": "markdown",
   "id": "8c129c6b",
   "metadata": {},
   "source": [
    "Let's try different models (Logistic Regression, Decision Tree, Random Forest) and use GridSearchCV to find better parameters."
   ]
  },
  {
   "cell_type": "code",
   "execution_count": 35,
   "id": "4044aca6",
   "metadata": {},
   "outputs": [],
   "source": [
    "# Initialiing classifiers, creating pipelines\n",
    "lr_model = LogisticRegression(max_iter=1000)\n",
    "dt_model = DecisionTreeClassifier()\n",
    "rf_model = RandomForestClassifier()\n",
    "lr_pipeline = Pipeline([\n",
    "    ('tfidf', tfidf_vectorizer),\n",
    "    ('clf', lr_model)\n",
    "])\n",
    "\n",
    "dt_pipeline = Pipeline([\n",
    "    ('tfidf', tfidf_vectorizer),\n",
    "    ('clf', dt_model)\n",
    "])\n",
    "\n",
    "rf_pipeline = Pipeline([\n",
    "    ('tfidf', tfidf_vectorizer),\n",
    "    ('clf', rf_model)\n",
    "])"
   ]
  },
  {
   "cell_type": "code",
   "execution_count": 36,
   "id": "b6e68fa4",
   "metadata": {},
   "outputs": [],
   "source": [
    "# Parameter grids for GridSearchCV\n",
    "lr_param_grid = {\n",
    "    'tfidf__max_features': [1000, 2000],\n",
    "    'tfidf__ngram_range': [(1, 1), (1, 2)],\n",
    "    'clf__C': [0.1, 1.0, 10.0]\n",
    "}\n",
    "\n",
    "dt_param_grid = {\n",
    "    'tfidf__max_features': [1000, 2000],\n",
    "    'tfidf__ngram_range': [(1, 1), (1, 2)],\n",
    "    'clf__max_depth': [None, 10, 20]\n",
    "}\n",
    "\n",
    "rf_param_grid = {\n",
    "    'tfidf__max_features': [1000, 2000],\n",
    "    'tfidf__ngram_range': [(1, 1), (1, 2)],\n",
    "    'clf__n_estimators': [100, 200],\n",
    "    'clf__max_depth': [None, 10, 20]\n",
    "}"
   ]
  },
  {
   "cell_type": "code",
   "execution_count": 37,
   "id": "7ac67aeb",
   "metadata": {},
   "outputs": [],
   "source": [
    "lr_grid_search = GridSearchCV(lr_pipeline, lr_param_grid, cv=5, verbose=2)\n",
    "dt_grid_search = GridSearchCV(dt_pipeline, dt_param_grid, cv=5, verbose=2)\n",
    "rf_grid_search = GridSearchCV(rf_pipeline, rf_param_grid, cv=5, verbose=2)"
   ]
  },
  {
   "cell_type": "code",
   "execution_count": 38,
   "id": "6f65111e",
   "metadata": {},
   "outputs": [
    {
     "name": "stdout",
     "output_type": "stream",
     "text": [
      "Fitting 5 folds for each of 12 candidates, totalling 60 fits\n",
      "[CV] END clf__C=0.1, tfidf__max_features=1000, tfidf__ngram_range=(1, 1); total time=   2.5s\n",
      "[CV] END clf__C=0.1, tfidf__max_features=1000, tfidf__ngram_range=(1, 1); total time=   0.4s\n",
      "[CV] END clf__C=0.1, tfidf__max_features=1000, tfidf__ngram_range=(1, 1); total time=   0.5s\n",
      "[CV] END clf__C=0.1, tfidf__max_features=1000, tfidf__ngram_range=(1, 1); total time=   0.4s\n",
      "[CV] END clf__C=0.1, tfidf__max_features=1000, tfidf__ngram_range=(1, 1); total time=   0.4s\n",
      "[CV] END clf__C=0.1, tfidf__max_features=1000, tfidf__ngram_range=(1, 2); total time=   0.7s\n",
      "[CV] END clf__C=0.1, tfidf__max_features=1000, tfidf__ngram_range=(1, 2); total time=   0.7s\n",
      "[CV] END clf__C=0.1, tfidf__max_features=1000, tfidf__ngram_range=(1, 2); total time=   0.7s\n",
      "[CV] END clf__C=0.1, tfidf__max_features=1000, tfidf__ngram_range=(1, 2); total time=   0.7s\n",
      "[CV] END clf__C=0.1, tfidf__max_features=1000, tfidf__ngram_range=(1, 2); total time=   0.7s\n",
      "[CV] END clf__C=0.1, tfidf__max_features=2000, tfidf__ngram_range=(1, 1); total time=   0.5s\n",
      "[CV] END clf__C=0.1, tfidf__max_features=2000, tfidf__ngram_range=(1, 1); total time=   0.5s\n",
      "[CV] END clf__C=0.1, tfidf__max_features=2000, tfidf__ngram_range=(1, 1); total time=   0.5s\n",
      "[CV] END clf__C=0.1, tfidf__max_features=2000, tfidf__ngram_range=(1, 1); total time=   0.5s\n",
      "[CV] END clf__C=0.1, tfidf__max_features=2000, tfidf__ngram_range=(1, 1); total time=   0.5s\n",
      "[CV] END clf__C=0.1, tfidf__max_features=2000, tfidf__ngram_range=(1, 2); total time=   0.7s\n",
      "[CV] END clf__C=0.1, tfidf__max_features=2000, tfidf__ngram_range=(1, 2); total time=   0.8s\n",
      "[CV] END clf__C=0.1, tfidf__max_features=2000, tfidf__ngram_range=(1, 2); total time=   0.7s\n",
      "[CV] END clf__C=0.1, tfidf__max_features=2000, tfidf__ngram_range=(1, 2); total time=   0.8s\n",
      "[CV] END clf__C=0.1, tfidf__max_features=2000, tfidf__ngram_range=(1, 2); total time=   0.8s\n",
      "[CV] END clf__C=1.0, tfidf__max_features=1000, tfidf__ngram_range=(1, 1); total time=   0.8s\n",
      "[CV] END clf__C=1.0, tfidf__max_features=1000, tfidf__ngram_range=(1, 1); total time=   0.8s\n",
      "[CV] END clf__C=1.0, tfidf__max_features=1000, tfidf__ngram_range=(1, 1); total time=   0.8s\n",
      "[CV] END clf__C=1.0, tfidf__max_features=1000, tfidf__ngram_range=(1, 1); total time=   0.8s\n",
      "[CV] END clf__C=1.0, tfidf__max_features=1000, tfidf__ngram_range=(1, 1); total time=   0.8s\n",
      "[CV] END clf__C=1.0, tfidf__max_features=1000, tfidf__ngram_range=(1, 2); total time=   1.1s\n",
      "[CV] END clf__C=1.0, tfidf__max_features=1000, tfidf__ngram_range=(1, 2); total time=   1.1s\n",
      "[CV] END clf__C=1.0, tfidf__max_features=1000, tfidf__ngram_range=(1, 2); total time=   1.2s\n",
      "[CV] END clf__C=1.0, tfidf__max_features=1000, tfidf__ngram_range=(1, 2); total time=   1.2s\n",
      "[CV] END clf__C=1.0, tfidf__max_features=1000, tfidf__ngram_range=(1, 2); total time=   1.0s\n",
      "[CV] END clf__C=1.0, tfidf__max_features=2000, tfidf__ngram_range=(1, 1); total time=   0.9s\n",
      "[CV] END clf__C=1.0, tfidf__max_features=2000, tfidf__ngram_range=(1, 1); total time=   1.0s\n",
      "[CV] END clf__C=1.0, tfidf__max_features=2000, tfidf__ngram_range=(1, 1); total time=   1.0s\n",
      "[CV] END clf__C=1.0, tfidf__max_features=2000, tfidf__ngram_range=(1, 1); total time=   1.0s\n",
      "[CV] END clf__C=1.0, tfidf__max_features=2000, tfidf__ngram_range=(1, 1); total time=   1.0s\n",
      "[CV] END clf__C=1.0, tfidf__max_features=2000, tfidf__ngram_range=(1, 2); total time=   1.2s\n",
      "[CV] END clf__C=1.0, tfidf__max_features=2000, tfidf__ngram_range=(1, 2); total time=   1.3s\n",
      "[CV] END clf__C=1.0, tfidf__max_features=2000, tfidf__ngram_range=(1, 2); total time=   1.2s\n",
      "[CV] END clf__C=1.0, tfidf__max_features=2000, tfidf__ngram_range=(1, 2); total time=   1.4s\n",
      "[CV] END clf__C=1.0, tfidf__max_features=2000, tfidf__ngram_range=(1, 2); total time=   1.2s\n",
      "[CV] END clf__C=10.0, tfidf__max_features=1000, tfidf__ngram_range=(1, 1); total time=   1.5s\n",
      "[CV] END clf__C=10.0, tfidf__max_features=1000, tfidf__ngram_range=(1, 1); total time=   1.5s\n",
      "[CV] END clf__C=10.0, tfidf__max_features=1000, tfidf__ngram_range=(1, 1); total time=   1.5s\n",
      "[CV] END clf__C=10.0, tfidf__max_features=1000, tfidf__ngram_range=(1, 1); total time=   1.6s\n",
      "[CV] END clf__C=10.0, tfidf__max_features=1000, tfidf__ngram_range=(1, 1); total time=   1.5s\n",
      "[CV] END clf__C=10.0, tfidf__max_features=1000, tfidf__ngram_range=(1, 2); total time=   2.0s\n",
      "[CV] END clf__C=10.0, tfidf__max_features=1000, tfidf__ngram_range=(1, 2); total time=   2.1s\n",
      "[CV] END clf__C=10.0, tfidf__max_features=1000, tfidf__ngram_range=(1, 2); total time=   2.1s\n",
      "[CV] END clf__C=10.0, tfidf__max_features=1000, tfidf__ngram_range=(1, 2); total time=   1.9s\n",
      "[CV] END clf__C=10.0, tfidf__max_features=1000, tfidf__ngram_range=(1, 2); total time=   1.9s\n",
      "[CV] END clf__C=10.0, tfidf__max_features=2000, tfidf__ngram_range=(1, 1); total time=   1.9s\n",
      "[CV] END clf__C=10.0, tfidf__max_features=2000, tfidf__ngram_range=(1, 1); total time=   2.0s\n",
      "[CV] END clf__C=10.0, tfidf__max_features=2000, tfidf__ngram_range=(1, 1); total time=   2.0s\n",
      "[CV] END clf__C=10.0, tfidf__max_features=2000, tfidf__ngram_range=(1, 1); total time=   2.1s\n",
      "[CV] END clf__C=10.0, tfidf__max_features=2000, tfidf__ngram_range=(1, 1); total time=   2.1s\n",
      "[CV] END clf__C=10.0, tfidf__max_features=2000, tfidf__ngram_range=(1, 2); total time=   2.6s\n",
      "[CV] END clf__C=10.0, tfidf__max_features=2000, tfidf__ngram_range=(1, 2); total time=   2.5s\n",
      "[CV] END clf__C=10.0, tfidf__max_features=2000, tfidf__ngram_range=(1, 2); total time=   2.4s\n",
      "[CV] END clf__C=10.0, tfidf__max_features=2000, tfidf__ngram_range=(1, 2); total time=   2.5s\n",
      "[CV] END clf__C=10.0, tfidf__max_features=2000, tfidf__ngram_range=(1, 2); total time=   2.4s\n",
      "Fitting 5 folds for each of 12 candidates, totalling 60 fits\n",
      "[CV] END clf__max_depth=None, tfidf__max_features=1000, tfidf__ngram_range=(1, 1); total time=   1.6s\n",
      "[CV] END clf__max_depth=None, tfidf__max_features=1000, tfidf__ngram_range=(1, 1); total time=   1.7s\n",
      "[CV] END clf__max_depth=None, tfidf__max_features=1000, tfidf__ngram_range=(1, 1); total time=   1.8s\n",
      "[CV] END clf__max_depth=None, tfidf__max_features=1000, tfidf__ngram_range=(1, 1); total time=   1.7s\n",
      "[CV] END clf__max_depth=None, tfidf__max_features=1000, tfidf__ngram_range=(1, 1); total time=   1.8s\n",
      "[CV] END clf__max_depth=None, tfidf__max_features=1000, tfidf__ngram_range=(1, 2); total time=   2.1s\n",
      "[CV] END clf__max_depth=None, tfidf__max_features=1000, tfidf__ngram_range=(1, 2); total time=   2.1s\n",
      "[CV] END clf__max_depth=None, tfidf__max_features=1000, tfidf__ngram_range=(1, 2); total time=   2.1s\n",
      "[CV] END clf__max_depth=None, tfidf__max_features=1000, tfidf__ngram_range=(1, 2); total time=   2.2s\n",
      "[CV] END clf__max_depth=None, tfidf__max_features=1000, tfidf__ngram_range=(1, 2); total time=   2.1s\n",
      "[CV] END clf__max_depth=None, tfidf__max_features=2000, tfidf__ngram_range=(1, 1); total time=   1.8s\n",
      "[CV] END clf__max_depth=None, tfidf__max_features=2000, tfidf__ngram_range=(1, 1); total time=   1.8s\n",
      "[CV] END clf__max_depth=None, tfidf__max_features=2000, tfidf__ngram_range=(1, 1); total time=   1.9s\n",
      "[CV] END clf__max_depth=None, tfidf__max_features=2000, tfidf__ngram_range=(1, 1); total time=   1.9s\n",
      "[CV] END clf__max_depth=None, tfidf__max_features=2000, tfidf__ngram_range=(1, 1); total time=   1.9s\n",
      "[CV] END clf__max_depth=None, tfidf__max_features=2000, tfidf__ngram_range=(1, 2); total time=   2.4s\n",
      "[CV] END clf__max_depth=None, tfidf__max_features=2000, tfidf__ngram_range=(1, 2); total time=   2.4s\n",
      "[CV] END clf__max_depth=None, tfidf__max_features=2000, tfidf__ngram_range=(1, 2); total time=   2.4s\n",
      "[CV] END clf__max_depth=None, tfidf__max_features=2000, tfidf__ngram_range=(1, 2); total time=   2.4s\n",
      "[CV] END clf__max_depth=None, tfidf__max_features=2000, tfidf__ngram_range=(1, 2); total time=   2.4s\n",
      "[CV] END clf__max_depth=10, tfidf__max_features=1000, tfidf__ngram_range=(1, 1); total time=   0.3s\n",
      "[CV] END clf__max_depth=10, tfidf__max_features=1000, tfidf__ngram_range=(1, 1); total time=   0.3s\n",
      "[CV] END clf__max_depth=10, tfidf__max_features=1000, tfidf__ngram_range=(1, 1); total time=   0.4s\n",
      "[CV] END clf__max_depth=10, tfidf__max_features=1000, tfidf__ngram_range=(1, 1); total time=   0.4s\n",
      "[CV] END clf__max_depth=10, tfidf__max_features=1000, tfidf__ngram_range=(1, 1); total time=   0.3s\n"
     ]
    },
    {
     "name": "stdout",
     "output_type": "stream",
     "text": [
      "[CV] END clf__max_depth=10, tfidf__max_features=1000, tfidf__ngram_range=(1, 2); total time=   0.6s\n",
      "[CV] END clf__max_depth=10, tfidf__max_features=1000, tfidf__ngram_range=(1, 2); total time=   0.6s\n",
      "[CV] END clf__max_depth=10, tfidf__max_features=1000, tfidf__ngram_range=(1, 2); total time=   0.6s\n",
      "[CV] END clf__max_depth=10, tfidf__max_features=1000, tfidf__ngram_range=(1, 2); total time=   0.6s\n",
      "[CV] END clf__max_depth=10, tfidf__max_features=1000, tfidf__ngram_range=(1, 2); total time=   0.6s\n",
      "[CV] END clf__max_depth=10, tfidf__max_features=2000, tfidf__ngram_range=(1, 1); total time=   0.4s\n",
      "[CV] END clf__max_depth=10, tfidf__max_features=2000, tfidf__ngram_range=(1, 1); total time=   0.4s\n",
      "[CV] END clf__max_depth=10, tfidf__max_features=2000, tfidf__ngram_range=(1, 1); total time=   0.4s\n",
      "[CV] END clf__max_depth=10, tfidf__max_features=2000, tfidf__ngram_range=(1, 1); total time=   0.4s\n",
      "[CV] END clf__max_depth=10, tfidf__max_features=2000, tfidf__ngram_range=(1, 1); total time=   0.4s\n",
      "[CV] END clf__max_depth=10, tfidf__max_features=2000, tfidf__ngram_range=(1, 2); total time=   0.6s\n",
      "[CV] END clf__max_depth=10, tfidf__max_features=2000, tfidf__ngram_range=(1, 2); total time=   0.6s\n",
      "[CV] END clf__max_depth=10, tfidf__max_features=2000, tfidf__ngram_range=(1, 2); total time=   0.7s\n",
      "[CV] END clf__max_depth=10, tfidf__max_features=2000, tfidf__ngram_range=(1, 2); total time=   0.6s\n",
      "[CV] END clf__max_depth=10, tfidf__max_features=2000, tfidf__ngram_range=(1, 2); total time=   0.6s\n",
      "[CV] END clf__max_depth=20, tfidf__max_features=1000, tfidf__ngram_range=(1, 1); total time=   0.6s\n",
      "[CV] END clf__max_depth=20, tfidf__max_features=1000, tfidf__ngram_range=(1, 1); total time=   0.6s\n",
      "[CV] END clf__max_depth=20, tfidf__max_features=1000, tfidf__ngram_range=(1, 1); total time=   0.6s\n",
      "[CV] END clf__max_depth=20, tfidf__max_features=1000, tfidf__ngram_range=(1, 1); total time=   0.6s\n",
      "[CV] END clf__max_depth=20, tfidf__max_features=1000, tfidf__ngram_range=(1, 1); total time=   0.5s\n",
      "[CV] END clf__max_depth=20, tfidf__max_features=1000, tfidf__ngram_range=(1, 2); total time=   0.8s\n",
      "[CV] END clf__max_depth=20, tfidf__max_features=1000, tfidf__ngram_range=(1, 2); total time=   0.9s\n",
      "[CV] END clf__max_depth=20, tfidf__max_features=1000, tfidf__ngram_range=(1, 2); total time=   0.9s\n",
      "[CV] END clf__max_depth=20, tfidf__max_features=1000, tfidf__ngram_range=(1, 2); total time=   0.9s\n",
      "[CV] END clf__max_depth=20, tfidf__max_features=1000, tfidf__ngram_range=(1, 2); total time=   0.9s\n",
      "[CV] END clf__max_depth=20, tfidf__max_features=2000, tfidf__ngram_range=(1, 1); total time=   0.6s\n",
      "[CV] END clf__max_depth=20, tfidf__max_features=2000, tfidf__ngram_range=(1, 1); total time=   0.6s\n",
      "[CV] END clf__max_depth=20, tfidf__max_features=2000, tfidf__ngram_range=(1, 1); total time=   0.6s\n",
      "[CV] END clf__max_depth=20, tfidf__max_features=2000, tfidf__ngram_range=(1, 1); total time=   0.6s\n",
      "[CV] END clf__max_depth=20, tfidf__max_features=2000, tfidf__ngram_range=(1, 1); total time=   0.6s\n",
      "[CV] END clf__max_depth=20, tfidf__max_features=2000, tfidf__ngram_range=(1, 2); total time=   0.9s\n",
      "[CV] END clf__max_depth=20, tfidf__max_features=2000, tfidf__ngram_range=(1, 2); total time=   0.9s\n",
      "[CV] END clf__max_depth=20, tfidf__max_features=2000, tfidf__ngram_range=(1, 2); total time=   0.9s\n",
      "[CV] END clf__max_depth=20, tfidf__max_features=2000, tfidf__ngram_range=(1, 2); total time=   0.9s\n",
      "[CV] END clf__max_depth=20, tfidf__max_features=2000, tfidf__ngram_range=(1, 2); total time=   0.9s\n",
      "Fitting 5 folds for each of 24 candidates, totalling 120 fits\n",
      "[CV] END clf__max_depth=None, clf__n_estimators=100, tfidf__max_features=1000, tfidf__ngram_range=(1, 1); total time=  12.6s\n",
      "[CV] END clf__max_depth=None, clf__n_estimators=100, tfidf__max_features=1000, tfidf__ngram_range=(1, 1); total time=  12.7s\n",
      "[CV] END clf__max_depth=None, clf__n_estimators=100, tfidf__max_features=1000, tfidf__ngram_range=(1, 1); total time=  12.4s\n",
      "[CV] END clf__max_depth=None, clf__n_estimators=100, tfidf__max_features=1000, tfidf__ngram_range=(1, 1); total time=  12.5s\n",
      "[CV] END clf__max_depth=None, clf__n_estimators=100, tfidf__max_features=1000, tfidf__ngram_range=(1, 1); total time=  12.6s\n",
      "[CV] END clf__max_depth=None, clf__n_estimators=100, tfidf__max_features=1000, tfidf__ngram_range=(1, 2); total time=  14.2s\n",
      "[CV] END clf__max_depth=None, clf__n_estimators=100, tfidf__max_features=1000, tfidf__ngram_range=(1, 2); total time=  14.4s\n",
      "[CV] END clf__max_depth=None, clf__n_estimators=100, tfidf__max_features=1000, tfidf__ngram_range=(1, 2); total time=  14.3s\n",
      "[CV] END clf__max_depth=None, clf__n_estimators=100, tfidf__max_features=1000, tfidf__ngram_range=(1, 2); total time=  14.4s\n",
      "[CV] END clf__max_depth=None, clf__n_estimators=100, tfidf__max_features=1000, tfidf__ngram_range=(1, 2); total time=  14.5s\n",
      "[CV] END clf__max_depth=None, clf__n_estimators=100, tfidf__max_features=2000, tfidf__ngram_range=(1, 1); total time=  12.8s\n",
      "[CV] END clf__max_depth=None, clf__n_estimators=100, tfidf__max_features=2000, tfidf__ngram_range=(1, 1); total time=  13.1s\n",
      "[CV] END clf__max_depth=None, clf__n_estimators=100, tfidf__max_features=2000, tfidf__ngram_range=(1, 1); total time=  12.9s\n",
      "[CV] END clf__max_depth=None, clf__n_estimators=100, tfidf__max_features=2000, tfidf__ngram_range=(1, 1); total time=  13.0s\n",
      "[CV] END clf__max_depth=None, clf__n_estimators=100, tfidf__max_features=2000, tfidf__ngram_range=(1, 1); total time=  13.1s\n",
      "[CV] END clf__max_depth=None, clf__n_estimators=100, tfidf__max_features=2000, tfidf__ngram_range=(1, 2); total time=  15.1s\n",
      "[CV] END clf__max_depth=None, clf__n_estimators=100, tfidf__max_features=2000, tfidf__ngram_range=(1, 2); total time=  15.5s\n",
      "[CV] END clf__max_depth=None, clf__n_estimators=100, tfidf__max_features=2000, tfidf__ngram_range=(1, 2); total time=  15.2s\n",
      "[CV] END clf__max_depth=None, clf__n_estimators=100, tfidf__max_features=2000, tfidf__ngram_range=(1, 2); total time=  15.3s\n",
      "[CV] END clf__max_depth=None, clf__n_estimators=100, tfidf__max_features=2000, tfidf__ngram_range=(1, 2); total time=  15.7s\n",
      "[CV] END clf__max_depth=None, clf__n_estimators=200, tfidf__max_features=1000, tfidf__ngram_range=(1, 1); total time=  24.6s\n",
      "[CV] END clf__max_depth=None, clf__n_estimators=200, tfidf__max_features=1000, tfidf__ngram_range=(1, 1); total time=  25.3s\n",
      "[CV] END clf__max_depth=None, clf__n_estimators=200, tfidf__max_features=1000, tfidf__ngram_range=(1, 1); total time=  25.1s\n",
      "[CV] END clf__max_depth=None, clf__n_estimators=200, tfidf__max_features=1000, tfidf__ngram_range=(1, 1); total time=  25.1s\n",
      "[CV] END clf__max_depth=None, clf__n_estimators=200, tfidf__max_features=1000, tfidf__ngram_range=(1, 1); total time=  25.8s\n",
      "[CV] END clf__max_depth=None, clf__n_estimators=200, tfidf__max_features=1000, tfidf__ngram_range=(1, 2); total time=  28.0s\n",
      "[CV] END clf__max_depth=None, clf__n_estimators=200, tfidf__max_features=1000, tfidf__ngram_range=(1, 2); total time=  28.5s\n",
      "[CV] END clf__max_depth=None, clf__n_estimators=200, tfidf__max_features=1000, tfidf__ngram_range=(1, 2); total time=  28.1s\n",
      "[CV] END clf__max_depth=None, clf__n_estimators=200, tfidf__max_features=1000, tfidf__ngram_range=(1, 2); total time=  28.2s\n",
      "[CV] END clf__max_depth=None, clf__n_estimators=200, tfidf__max_features=1000, tfidf__ngram_range=(1, 2); total time=  28.7s\n",
      "[CV] END clf__max_depth=None, clf__n_estimators=200, tfidf__max_features=2000, tfidf__ngram_range=(1, 1); total time=  26.1s\n",
      "[CV] END clf__max_depth=None, clf__n_estimators=200, tfidf__max_features=2000, tfidf__ngram_range=(1, 1); total time=  26.6s\n",
      "[CV] END clf__max_depth=None, clf__n_estimators=200, tfidf__max_features=2000, tfidf__ngram_range=(1, 1); total time=  26.4s\n",
      "[CV] END clf__max_depth=None, clf__n_estimators=200, tfidf__max_features=2000, tfidf__ngram_range=(1, 1); total time=  26.4s\n",
      "[CV] END clf__max_depth=None, clf__n_estimators=200, tfidf__max_features=2000, tfidf__ngram_range=(1, 1); total time=  27.6s\n",
      "[CV] END clf__max_depth=None, clf__n_estimators=200, tfidf__max_features=2000, tfidf__ngram_range=(1, 2); total time=  31.1s\n",
      "[CV] END clf__max_depth=None, clf__n_estimators=200, tfidf__max_features=2000, tfidf__ngram_range=(1, 2); total time=  30.9s\n",
      "[CV] END clf__max_depth=None, clf__n_estimators=200, tfidf__max_features=2000, tfidf__ngram_range=(1, 2); total time=  30.3s\n"
     ]
    },
    {
     "name": "stdout",
     "output_type": "stream",
     "text": [
      "[CV] END clf__max_depth=None, clf__n_estimators=200, tfidf__max_features=2000, tfidf__ngram_range=(1, 2); total time=  30.2s\n",
      "[CV] END clf__max_depth=None, clf__n_estimators=200, tfidf__max_features=2000, tfidf__ngram_range=(1, 2); total time=  30.5s\n",
      "[CV] END clf__max_depth=10, clf__n_estimators=100, tfidf__max_features=1000, tfidf__ngram_range=(1, 1); total time=   0.9s\n",
      "[CV] END clf__max_depth=10, clf__n_estimators=100, tfidf__max_features=1000, tfidf__ngram_range=(1, 1); total time=   0.9s\n",
      "[CV] END clf__max_depth=10, clf__n_estimators=100, tfidf__max_features=1000, tfidf__ngram_range=(1, 1); total time=   0.8s\n",
      "[CV] END clf__max_depth=10, clf__n_estimators=100, tfidf__max_features=1000, tfidf__ngram_range=(1, 1); total time=   0.8s\n",
      "[CV] END clf__max_depth=10, clf__n_estimators=100, tfidf__max_features=1000, tfidf__ngram_range=(1, 1); total time=   0.9s\n",
      "[CV] END clf__max_depth=10, clf__n_estimators=100, tfidf__max_features=1000, tfidf__ngram_range=(1, 2); total time=   1.1s\n",
      "[CV] END clf__max_depth=10, clf__n_estimators=100, tfidf__max_features=1000, tfidf__ngram_range=(1, 2); total time=   1.1s\n",
      "[CV] END clf__max_depth=10, clf__n_estimators=100, tfidf__max_features=1000, tfidf__ngram_range=(1, 2); total time=   1.1s\n",
      "[CV] END clf__max_depth=10, clf__n_estimators=100, tfidf__max_features=1000, tfidf__ngram_range=(1, 2); total time=   1.1s\n",
      "[CV] END clf__max_depth=10, clf__n_estimators=100, tfidf__max_features=1000, tfidf__ngram_range=(1, 2); total time=   1.1s\n",
      "[CV] END clf__max_depth=10, clf__n_estimators=100, tfidf__max_features=2000, tfidf__ngram_range=(1, 1); total time=   0.8s\n",
      "[CV] END clf__max_depth=10, clf__n_estimators=100, tfidf__max_features=2000, tfidf__ngram_range=(1, 1); total time=   0.8s\n",
      "[CV] END clf__max_depth=10, clf__n_estimators=100, tfidf__max_features=2000, tfidf__ngram_range=(1, 1); total time=   0.8s\n",
      "[CV] END clf__max_depth=10, clf__n_estimators=100, tfidf__max_features=2000, tfidf__ngram_range=(1, 1); total time=   0.8s\n",
      "[CV] END clf__max_depth=10, clf__n_estimators=100, tfidf__max_features=2000, tfidf__ngram_range=(1, 1); total time=   0.8s\n",
      "[CV] END clf__max_depth=10, clf__n_estimators=100, tfidf__max_features=2000, tfidf__ngram_range=(1, 2); total time=   1.1s\n",
      "[CV] END clf__max_depth=10, clf__n_estimators=100, tfidf__max_features=2000, tfidf__ngram_range=(1, 2); total time=   1.1s\n",
      "[CV] END clf__max_depth=10, clf__n_estimators=100, tfidf__max_features=2000, tfidf__ngram_range=(1, 2); total time=   1.0s\n",
      "[CV] END clf__max_depth=10, clf__n_estimators=100, tfidf__max_features=2000, tfidf__ngram_range=(1, 2); total time=   1.1s\n",
      "[CV] END clf__max_depth=10, clf__n_estimators=100, tfidf__max_features=2000, tfidf__ngram_range=(1, 2); total time=   1.0s\n",
      "[CV] END clf__max_depth=10, clf__n_estimators=200, tfidf__max_features=1000, tfidf__ngram_range=(1, 1); total time=   1.5s\n",
      "[CV] END clf__max_depth=10, clf__n_estimators=200, tfidf__max_features=1000, tfidf__ngram_range=(1, 1); total time=   1.6s\n",
      "[CV] END clf__max_depth=10, clf__n_estimators=200, tfidf__max_features=1000, tfidf__ngram_range=(1, 1); total time=   1.5s\n",
      "[CV] END clf__max_depth=10, clf__n_estimators=200, tfidf__max_features=1000, tfidf__ngram_range=(1, 1); total time=   1.5s\n",
      "[CV] END clf__max_depth=10, clf__n_estimators=200, tfidf__max_features=1000, tfidf__ngram_range=(1, 1); total time=   1.5s\n",
      "[CV] END clf__max_depth=10, clf__n_estimators=200, tfidf__max_features=1000, tfidf__ngram_range=(1, 2); total time=   1.8s\n",
      "[CV] END clf__max_depth=10, clf__n_estimators=200, tfidf__max_features=1000, tfidf__ngram_range=(1, 2); total time=   1.9s\n",
      "[CV] END clf__max_depth=10, clf__n_estimators=200, tfidf__max_features=1000, tfidf__ngram_range=(1, 2); total time=   1.8s\n",
      "[CV] END clf__max_depth=10, clf__n_estimators=200, tfidf__max_features=1000, tfidf__ngram_range=(1, 2); total time=   1.9s\n",
      "[CV] END clf__max_depth=10, clf__n_estimators=200, tfidf__max_features=1000, tfidf__ngram_range=(1, 2); total time=   1.8s\n",
      "[CV] END clf__max_depth=10, clf__n_estimators=200, tfidf__max_features=2000, tfidf__ngram_range=(1, 1); total time=   1.3s\n",
      "[CV] END clf__max_depth=10, clf__n_estimators=200, tfidf__max_features=2000, tfidf__ngram_range=(1, 1); total time=   1.4s\n",
      "[CV] END clf__max_depth=10, clf__n_estimators=200, tfidf__max_features=2000, tfidf__ngram_range=(1, 1); total time=   1.4s\n",
      "[CV] END clf__max_depth=10, clf__n_estimators=200, tfidf__max_features=2000, tfidf__ngram_range=(1, 1); total time=   1.4s\n",
      "[CV] END clf__max_depth=10, clf__n_estimators=200, tfidf__max_features=2000, tfidf__ngram_range=(1, 1); total time=   1.4s\n",
      "[CV] END clf__max_depth=10, clf__n_estimators=200, tfidf__max_features=2000, tfidf__ngram_range=(1, 2); total time=   1.7s\n",
      "[CV] END clf__max_depth=10, clf__n_estimators=200, tfidf__max_features=2000, tfidf__ngram_range=(1, 2); total time=   1.7s\n",
      "[CV] END clf__max_depth=10, clf__n_estimators=200, tfidf__max_features=2000, tfidf__ngram_range=(1, 2); total time=   1.8s\n",
      "[CV] END clf__max_depth=10, clf__n_estimators=200, tfidf__max_features=2000, tfidf__ngram_range=(1, 2); total time=   1.8s\n",
      "[CV] END clf__max_depth=10, clf__n_estimators=200, tfidf__max_features=2000, tfidf__ngram_range=(1, 2); total time=   1.8s\n",
      "[CV] END clf__max_depth=20, clf__n_estimators=100, tfidf__max_features=1000, tfidf__ngram_range=(1, 1); total time=   1.5s\n",
      "[CV] END clf__max_depth=20, clf__n_estimators=100, tfidf__max_features=1000, tfidf__ngram_range=(1, 1); total time=   1.6s\n",
      "[CV] END clf__max_depth=20, clf__n_estimators=100, tfidf__max_features=1000, tfidf__ngram_range=(1, 1); total time=   1.6s\n",
      "[CV] END clf__max_depth=20, clf__n_estimators=100, tfidf__max_features=1000, tfidf__ngram_range=(1, 1); total time=   1.6s\n",
      "[CV] END clf__max_depth=20, clf__n_estimators=100, tfidf__max_features=1000, tfidf__ngram_range=(1, 1); total time=   1.6s\n",
      "[CV] END clf__max_depth=20, clf__n_estimators=100, tfidf__max_features=1000, tfidf__ngram_range=(1, 2); total time=   1.9s\n",
      "[CV] END clf__max_depth=20, clf__n_estimators=100, tfidf__max_features=1000, tfidf__ngram_range=(1, 2); total time=   2.0s\n",
      "[CV] END clf__max_depth=20, clf__n_estimators=100, tfidf__max_features=1000, tfidf__ngram_range=(1, 2); total time=   2.0s\n",
      "[CV] END clf__max_depth=20, clf__n_estimators=100, tfidf__max_features=1000, tfidf__ngram_range=(1, 2); total time=   2.0s\n",
      "[CV] END clf__max_depth=20, clf__n_estimators=100, tfidf__max_features=1000, tfidf__ngram_range=(1, 2); total time=   2.0s\n",
      "[CV] END clf__max_depth=20, clf__n_estimators=100, tfidf__max_features=2000, tfidf__ngram_range=(1, 1); total time=   1.4s\n",
      "[CV] END clf__max_depth=20, clf__n_estimators=100, tfidf__max_features=2000, tfidf__ngram_range=(1, 1); total time=   1.4s\n",
      "[CV] END clf__max_depth=20, clf__n_estimators=100, tfidf__max_features=2000, tfidf__ngram_range=(1, 1); total time=   1.4s\n",
      "[CV] END clf__max_depth=20, clf__n_estimators=100, tfidf__max_features=2000, tfidf__ngram_range=(1, 1); total time=   1.4s\n",
      "[CV] END clf__max_depth=20, clf__n_estimators=100, tfidf__max_features=2000, tfidf__ngram_range=(1, 1); total time=   1.4s\n",
      "[CV] END clf__max_depth=20, clf__n_estimators=100, tfidf__max_features=2000, tfidf__ngram_range=(1, 2); total time=   1.7s\n",
      "[CV] END clf__max_depth=20, clf__n_estimators=100, tfidf__max_features=2000, tfidf__ngram_range=(1, 2); total time=   1.8s\n",
      "[CV] END clf__max_depth=20, clf__n_estimators=100, tfidf__max_features=2000, tfidf__ngram_range=(1, 2); total time=   1.8s\n",
      "[CV] END clf__max_depth=20, clf__n_estimators=100, tfidf__max_features=2000, tfidf__ngram_range=(1, 2); total time=   1.7s\n",
      "[CV] END clf__max_depth=20, clf__n_estimators=100, tfidf__max_features=2000, tfidf__ngram_range=(1, 2); total time=   1.8s\n",
      "[CV] END clf__max_depth=20, clf__n_estimators=200, tfidf__max_features=1000, tfidf__ngram_range=(1, 1); total time=   3.0s\n",
      "[CV] END clf__max_depth=20, clf__n_estimators=200, tfidf__max_features=1000, tfidf__ngram_range=(1, 1); total time=   3.0s\n",
      "[CV] END clf__max_depth=20, clf__n_estimators=200, tfidf__max_features=1000, tfidf__ngram_range=(1, 1); total time=   3.0s\n",
      "[CV] END clf__max_depth=20, clf__n_estimators=200, tfidf__max_features=1000, tfidf__ngram_range=(1, 1); total time=   3.0s\n",
      "[CV] END clf__max_depth=20, clf__n_estimators=200, tfidf__max_features=1000, tfidf__ngram_range=(1, 1); total time=   3.0s\n"
     ]
    },
    {
     "name": "stdout",
     "output_type": "stream",
     "text": [
      "[CV] END clf__max_depth=20, clf__n_estimators=200, tfidf__max_features=1000, tfidf__ngram_range=(1, 2); total time=   3.5s\n",
      "[CV] END clf__max_depth=20, clf__n_estimators=200, tfidf__max_features=1000, tfidf__ngram_range=(1, 2); total time=   3.6s\n",
      "[CV] END clf__max_depth=20, clf__n_estimators=200, tfidf__max_features=1000, tfidf__ngram_range=(1, 2); total time=   3.6s\n",
      "[CV] END clf__max_depth=20, clf__n_estimators=200, tfidf__max_features=1000, tfidf__ngram_range=(1, 2); total time=   3.5s\n",
      "[CV] END clf__max_depth=20, clf__n_estimators=200, tfidf__max_features=1000, tfidf__ngram_range=(1, 2); total time=   3.6s\n",
      "[CV] END clf__max_depth=20, clf__n_estimators=200, tfidf__max_features=2000, tfidf__ngram_range=(1, 1); total time=   2.5s\n",
      "[CV] END clf__max_depth=20, clf__n_estimators=200, tfidf__max_features=2000, tfidf__ngram_range=(1, 1); total time=   2.5s\n",
      "[CV] END clf__max_depth=20, clf__n_estimators=200, tfidf__max_features=2000, tfidf__ngram_range=(1, 1); total time=   2.5s\n",
      "[CV] END clf__max_depth=20, clf__n_estimators=200, tfidf__max_features=2000, tfidf__ngram_range=(1, 1); total time=   2.5s\n",
      "[CV] END clf__max_depth=20, clf__n_estimators=200, tfidf__max_features=2000, tfidf__ngram_range=(1, 1); total time=   2.6s\n",
      "[CV] END clf__max_depth=20, clf__n_estimators=200, tfidf__max_features=2000, tfidf__ngram_range=(1, 2); total time=   3.0s\n",
      "[CV] END clf__max_depth=20, clf__n_estimators=200, tfidf__max_features=2000, tfidf__ngram_range=(1, 2); total time=   3.1s\n",
      "[CV] END clf__max_depth=20, clf__n_estimators=200, tfidf__max_features=2000, tfidf__ngram_range=(1, 2); total time=   3.1s\n",
      "[CV] END clf__max_depth=20, clf__n_estimators=200, tfidf__max_features=2000, tfidf__ngram_range=(1, 2); total time=   3.1s\n",
      "[CV] END clf__max_depth=20, clf__n_estimators=200, tfidf__max_features=2000, tfidf__ngram_range=(1, 2); total time=   3.1s\n"
     ]
    },
    {
     "data": {
      "text/plain": [
       "GridSearchCV(cv=5,\n",
       "             estimator=Pipeline(steps=[('tfidf', TfidfVectorizer()),\n",
       "                                       ('clf', RandomForestClassifier())]),\n",
       "             param_grid={'clf__max_depth': [None, 10, 20],\n",
       "                         'clf__n_estimators': [100, 200],\n",
       "                         'tfidf__max_features': [1000, 2000],\n",
       "                         'tfidf__ngram_range': [(1, 1), (1, 2)]},\n",
       "             verbose=2)"
      ]
     },
     "execution_count": 38,
     "metadata": {},
     "output_type": "execute_result"
    }
   ],
   "source": [
    "# Fiting the models\n",
    "lr_grid_search.fit(X_train, y_train)\n",
    "dt_grid_search.fit(X_train, y_train)\n",
    "rf_grid_search.fit(X_train, y_train)"
   ]
  },
  {
   "cell_type": "code",
   "execution_count": 41,
   "id": "3507c379",
   "metadata": {},
   "outputs": [
    {
     "name": "stdout",
     "output_type": "stream",
     "text": [
      "\n",
      "Logistic Regression - Best parameters:\n",
      "{'clf__C': 1.0, 'tfidf__max_features': 2000, 'tfidf__ngram_range': (1, 2)}\n",
      "\n",
      "Decision Tree - Best parameters:\n",
      "{'clf__max_depth': 20, 'tfidf__max_features': 2000, 'tfidf__ngram_range': (1, 2)}\n",
      "\n",
      "Random Forest - Best parameters:\n",
      "{'clf__max_depth': None, 'clf__n_estimators': 200, 'tfidf__max_features': 2000, 'tfidf__ngram_range': (1, 1)}\n"
     ]
    }
   ],
   "source": [
    "print(\"\\nLogistic Regression - Best parameters:\")\n",
    "print(lr_grid_search.best_params_)\n",
    "best_lr_model = lr_grid_search.best_estimator_\n",
    "\n",
    "print(\"\\nDecision Tree - Best parameters:\")\n",
    "print(dt_grid_search.best_params_)\n",
    "best_dt_model = dt_grid_search.best_estimator_\n",
    "\n",
    "print(\"\\nRandom Forest - Best parameters:\")\n",
    "print(rf_grid_search.best_params_)\n",
    "best_rf_model = rf_grid_search.best_estimator_"
   ]
  },
  {
   "cell_type": "code",
   "execution_count": 42,
   "id": "00a2153b",
   "metadata": {},
   "outputs": [
    {
     "name": "stdout",
     "output_type": "stream",
     "text": [
      "\n",
      "Logistic Regression ROC-AUC Score:0.8811\n",
      "Logistic Regression Accuracy: 0.8349\n",
      "\n",
      "Decision Tree ROC-AUC Score:0.7728\n",
      "Decision Tree Accuracy: 0.7744\n",
      "\n",
      "Random Forest ROC-AUC Score:0.8587\n",
      "Random Forest Accuracy: 0.8283\n"
     ]
    }
   ],
   "source": [
    "# Predicting and evaluating\n",
    "lr_y_pred = best_lr_model.predict(X_test)\n",
    "lr_y_pred_proba = best_lr_model.predict_proba(X_test)\n",
    "dt_y_pred = best_dt_model.predict(X_test)\n",
    "dt_y_pred_proba = best_dt_model.predict_proba(X_test)\n",
    "rf_y_pred = best_rf_model.predict(X_test)\n",
    "rf_y_pred_proba = best_rf_model.predict_proba(X_test)\n",
    "\n",
    "accuracy_lr = accuracy_score(y_test, lr_y_pred)\n",
    "accuracy_dt = accuracy_score(y_test, dt_y_pred)\n",
    "accuracy_rf = accuracy_score(y_test, rf_y_pred)\n",
    "\n",
    "lr_roc_auc = roc_auc_score(y_test, lr_y_pred_proba, multi_class='ovr', average='macro')\n",
    "dt_roc_auc = roc_auc_score(y_test, dt_y_pred_proba, multi_class='ovr', average='macro')\n",
    "rf_roc_auc = roc_auc_score(y_test, rf_y_pred_proba, multi_class='ovr', average='macro')\n",
    "\n",
    "print(f\"\\nLogistic Regression ROC-AUC Score:{lr_roc_auc:.4f}\")\n",
    "print(f\"Logistic Regression Accuracy: {accuracy_lr:.4f}\")\n",
    "\n",
    "print(f\"\\nDecision Tree ROC-AUC Score:{dt_roc_auc:.4f}\")\n",
    "print(f\"Decision Tree Accuracy: {accuracy_dt:.4f}\")\n",
    "\n",
    "print(f\"\\nRandom Forest ROC-AUC Score:{rf_roc_auc:.4f}\")\n",
    "print(f\"Random Forest Accuracy: {accuracy_rf:.4f}\")"
   ]
  },
  {
   "cell_type": "markdown",
   "id": "2f651248",
   "metadata": {},
   "source": [
    "Logistic Regression is showing best results. Let's use it to make a function that takes a text comment as input and classifies the semantics as positive, negative or neutral."
   ]
  },
  {
   "cell_type": "code",
   "execution_count": 43,
   "id": "5841e47d",
   "metadata": {},
   "outputs": [],
   "source": [
    "def review_semantics(review, model):\n",
    "    \n",
    "    \"\"\"\n",
    "    Predicts the sentiment of a given review text using the provided model pipeline.\n",
    "    Input: str type review text.\n",
    "    Output: The sentiment label of the review text ('positive', 'neutral', or 'negative')\n",
    "    \"\"\"\n",
    "    \n",
    "    lemmatizer = WordNetLemmatizer()\n",
    "    stop_words = set(stopwords.words('portuguese'))\n",
    "\n",
    "    # Preprocessing the input review\n",
    "    review = review.lower()\n",
    "    review = re.sub(r'\\W', ' ', review) \n",
    "    review = re.sub(r'\\s+', ' ', review)\n",
    "    tokens = review.split()\n",
    "    tokens = [lemmatizer.lemmatize(token) for token in tokens if token not in stop_words]\n",
    "    text = ' '.join(tokens)\n",
    "\n",
    "    # Predicting sentiment using the provided model\n",
    "    text_series = pd.Series([text])\n",
    "    review_pred = model.predict(text_series)\n",
    "\n",
    "    # Returning sentiment label based on prediction\n",
    "    if review_pred == 2:\n",
    "        return 'positive'\n",
    "    elif review_pred == 1:\n",
    "        return 'neutral'\n",
    "    else:\n",
    "        return 'negative'"
   ]
  },
  {
   "cell_type": "code",
   "execution_count": 44,
   "id": "3a027419",
   "metadata": {},
   "outputs": [
    {
     "data": {
      "text/plain": [
       "'positive'"
      ]
     },
     "execution_count": 44,
     "metadata": {},
     "output_type": "execute_result"
    }
   ],
   "source": [
    "# Trying the function by feeding it review_comment_title of 5-score review\n",
    "comment = 'Super recomendo' # translation: I highly recommend\n",
    "review_semantics(comment, best_lr_model)"
   ]
  },
  {
   "cell_type": "code",
   "execution_count": 45,
   "id": "fd3de54c",
   "metadata": {},
   "outputs": [
    {
     "data": {
      "text/plain": [
       "'negative'"
      ]
     },
     "execution_count": 45,
     "metadata": {},
     "output_type": "execute_result"
    }
   ],
   "source": [
    "# Trying the function by feeding it review_comment_title of 1-score review\n",
    "comment = 'Não chegou meu produto '  # translation: My product didn't arrive\n",
    "review_semantics(comment, best_lr_model)"
   ]
  },
  {
   "cell_type": "code",
   "execution_count": null,
   "id": "374a1ac3",
   "metadata": {},
   "outputs": [],
   "source": []
  }
 ],
 "metadata": {
  "kernelspec": {
   "display_name": "Python 3 (ipykernel)",
   "language": "python",
   "name": "python3"
  },
  "language_info": {
   "codemirror_mode": {
    "name": "ipython",
    "version": 3
   },
   "file_extension": ".py",
   "mimetype": "text/x-python",
   "name": "python",
   "nbconvert_exporter": "python",
   "pygments_lexer": "ipython3",
   "version": "3.9.13"
  }
 },
 "nbformat": 4,
 "nbformat_minor": 5
}
